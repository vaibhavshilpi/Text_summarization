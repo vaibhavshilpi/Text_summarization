{
 "cells": [
  {
   "cell_type": "code",
   "execution_count": 15,
   "id": "908ec211-3aae-4cc5-aaad-9a2729b7c7b4",
   "metadata": {},
   "outputs": [
    {
     "name": "stdin",
     "output_type": "stream",
     "text": [
      " Water pollution is a serious environmental issue arising from the contamination of water bodies by harmful substances. These contaminants can be chemicals, waste, or pollutants, often resulting from human activities like industrial waste disposal, agricultural runoff, and untreated sewage. This contamination can have detrimental impacts on aquatic ecosystems, human health, and the overall environment.  Elaboration: Water pollution occurs when various substances, including chemicals, waste, and pollutants, contaminate water bodies such as rivers, lakes, oceans, and groundwater. These pollutants can originate from different sources, including:  Industrial waste disposal: Factories and industries discharge wastewater containing chemicals, heavy metals, and other pollutants into nearby water bodies. \n"
     ]
    },
    {
     "name": "stdout",
     "output_type": "stream",
     "text": [
      "Summary:\n",
      " Elaboration: Water pollution occurs when various substances, including chemicals, waste, and pollutants, contaminate water bodies such as rivers, lakes, oceans, and groundwater. These pollutants can originate from different sources, including:  Industrial waste disposal: Factories and industries discharge wastewater containing chemicals, heavy metals, and other pollutants into nearby water bodies\n"
     ]
    }
   ],
   "source": [
    "import string\n",
    "\n",
    "# Basic hardcoded English stopwords\n",
    "STOPWORDS = {\n",
    "    \"i\", \"me\", \"my\", \"myself\", \"we\", \"our\", \"ours\", \"ourselves\", \"you\", \"your\", \"yours\", \n",
    "    \"yourself\", \"yourselves\", \"he\", \"him\", \"his\", \"himself\", \"she\", \"her\", \"hers\", \"herself\", \n",
    "    \"it\", \"its\", \"itself\", \"they\", \"them\", \"their\", \"theirs\", \"themselves\", \"what\", \"which\", \n",
    "    \"who\", \"whom\", \"this\", \"that\", \"these\", \"those\", \"am\", \"is\", \"are\", \"was\", \"were\", \"be\", \n",
    "    \"been\", \"being\", \"have\", \"has\", \"had\", \"having\", \"do\", \"does\", \"did\", \"doing\", \"a\", \"an\", \n",
    "    \"the\", \"and\", \"but\", \"if\", \"or\", \"because\", \"as\", \"until\", \"while\", \"of\", \"at\", \"by\", \"for\", \n",
    "    \"with\", \"about\", \"against\", \"between\", \"into\", \"through\", \"during\", \"before\", \"after\", \n",
    "    \"above\", \"below\", \"to\", \"from\", \"up\", \"down\", \"in\", \"out\", \"on\", \"off\", \"over\", \"under\", \n",
    "    \"again\", \"further\", \"then\", \"once\", \"here\", \"there\", \"when\", \"where\", \"why\", \"how\", \"all\", \n",
    "    \"any\", \"both\", \"each\", \"few\", \"more\", \"most\", \"other\", \"some\", \"such\", \"no\", \"nor\", \"not\", \n",
    "    \"only\", \"own\", \"same\", \"so\", \"than\", \"too\", \"very\", \"can\", \"will\", \"just\", \"don\", \"should\", \n",
    "    \"now\"\n",
    "}\n",
    "\n",
    "def tokenize(text):\n",
    "    # Lowercase and remove punctuation\n",
    "    text = text.lower()\n",
    "    translator = str.maketrans('', '', string.punctuation)\n",
    "    return text.translate(translator).split()\n",
    "\n",
    "def summarize_text_no_nltk(text, num_sentences=3):\n",
    "    # Split sentences using common punctuation marks\n",
    "    sentences = [s.strip() for s in text.replace('\\n', ' ').split('. ') if len(s.strip()) > 0]\n",
    "\n",
    "    if len(sentences) <= num_sentences:\n",
    "        return text  # If text is short, just return it\n",
    "\n",
    "    # Build word frequency table\n",
    "    word_freq = {}\n",
    "    for word in tokenize(text):\n",
    "        if word not in STOPWORDS:\n",
    "            word_freq[word] = word_freq.get(word, 0) + 1\n",
    "\n",
    "    # Score each sentence\n",
    "    sentence_scores = {}\n",
    "    for sentence in sentences:\n",
    "        words = tokenize(sentence)\n",
    "        score = sum(word_freq.get(word, 0) for word in words)\n",
    "        if len(words) < 30:  # Limit long sentences\n",
    "            sentence_scores[sentence] = score\n",
    "\n",
    "    # Sort and select top-scoring sentences\n",
    "    sorted_sentences = sorted(sentence_scores.items(), key=lambda x: x[1], reverse=True)\n",
    "    top_sentences = [s[0] for s in sorted_sentences[:num_sentences]]\n",
    "\n",
    "    # Preserve order of appearance\n",
    "    summary = '. '.join([s for s in sentences if s in top_sentences])\n",
    "    return summary\n",
    "\n",
    "# Example text\n",
    "text = input()\n",
    "\n",
    "# Run the summarizer\n",
    "summary = summarize_text_no_nltk(text, num_sentences=2)\n",
    "print(\"Summary:\\n\", summary)\n",
    "\n"
   ]
  },
  {
   "cell_type": "code",
   "execution_count": null,
   "id": "2555babe-4e9f-433f-b1fd-d22da98b7bcc",
   "metadata": {},
   "outputs": [],
   "source": []
  }
 ],
 "metadata": {
  "kernelspec": {
   "display_name": "Python 3 (ipykernel)",
   "language": "python",
   "name": "python3"
  },
  "language_info": {
   "codemirror_mode": {
    "name": "ipython",
    "version": 3
   },
   "file_extension": ".py",
   "mimetype": "text/x-python",
   "name": "python",
   "nbconvert_exporter": "python",
   "pygments_lexer": "ipython3",
   "version": "3.12.4"
  }
 },
 "nbformat": 4,
 "nbformat_minor": 5
}
